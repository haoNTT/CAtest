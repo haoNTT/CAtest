{
 "cells": [
  {
   "cell_type": "markdown",
   "metadata": {
    "ExecuteTime": {
     "end_time": "2018-07-30T15:14:48.598799Z",
     "start_time": "2018-07-30T11:14:48.591423-04:00"
    }
   },
   "source": [
    "Instructions: each piece of instruction is contained in a cell below. \n",
    "\n",
    "**PREFERRED DELIVERY METHOD**\n",
    "Fork this github repository on your own github, make that repository private and make fedhere a collaborator. Upload your solution to this repository. \n",
    "\n",
    "**OTHERWISE**\n",
    "If you are not familiar with github and you cannot figure out how to follow the instructions above you can email the solution.\n",
    "\n",
    "Fill in each cell below each piece of instruction. This is not a close-book test: feel free to use any resources (google, stackoverflow, books) that you want! \n",
    "\n",
    "If you cannot complete a task feel free to ask for the solution for that portion of the exercise. There are multiple aspects we will evaluate you on and it is expected that you will be  stronger on some tasks than on others. We will use this information to best fit you in our CA assignments. For example, if you cannot read in the data as we are asking, you can as for a clean dataset so that you can show you can do the modeling part. If you are in this situation send us an email. \n",
    "\n",
    "Try to write clean, readable code. This will also be a parameter of evaluation."
   ]
  },
  {
   "cell_type": "markdown",
   "metadata": {
    "run_control": {
     "frozen": false,
     "read_only": false
    }
   },
   "source": [
    "import relevant packages"
   ]
  },
  {
   "cell_type": "code",
   "execution_count": 13,
   "metadata": {
    "ExecuteTime": {
     "end_time": "2018-07-30T14:46:46.677266Z",
     "start_time": "2018-07-30T10:46:46.653829-04:00"
    },
    "run_control": {
     "frozen": false,
     "read_only": false
    }
   },
   "outputs": [],
   "source": [
    "import pandas as pd\n",
    "import numpy as np\n",
    "import matplotlib.pyplot as plt\n",
    "from sklearn.linear_model import LogisticRegression\n",
    "from sklearn.metrics import confusion_matrix, recall_score, precision_score\n",
    "from sklearn.linear_model import LinearRegression"
   ]
  },
  {
   "cell_type": "markdown",
   "metadata": {},
   "source": [
    "** Data acquisition and cleaning **"
   ]
  },
  {
   "cell_type": "code",
   "execution_count": 3,
   "metadata": {},
   "outputs": [],
   "source": [
    "def isfloat(value): # Helper function to filter dirty item\n",
    "  try:\n",
    "    float(value)\n",
    "    return True\n",
    "  except ValueError:\n",
    "    return False\n",
    "\n",
    "def addLabel(series): # Append another column with corresponding label \n",
    "    output = []\n",
    "    for item in series:\n",
    "        if item == 'yellow':\n",
    "            output.append(1)\n",
    "        else:\n",
    "            output.append(0)\n",
    "    return output\n",
    "\n",
    "def loadData(inputFile): # Function to load data to required format\n",
    "    data_file = pd.read_csv(inputFile, names = ['x1', 'x2', 'color'])\n",
    "    data_file.set_index('x2')\n",
    "    filter2 = data_file.applymap(lambda x: isfloat(x) == True)\n",
    "    data_file = data_file[filter2['x2'] == True]\n",
    "    data_file['x2'] = data_file.x2.astype(float)\n",
    "    data_file['y'] = addLabel(data_file['color'])\n",
    "    data_file['y'] = data_file.y.astype(float)\n",
    "    return data_file\n",
    "\n",
    "datain = loadData(\"logreg.csv\")"
   ]
  },
  {
   "cell_type": "markdown",
   "metadata": {
    "run_control": {
     "frozen": false,
     "read_only": false
    }
   },
   "source": [
    "Read in the data file called logreg2. Call the columns x1, x2, color, and y (y should be the numerical conversion of color). Convert each column to a floating point variable mapping the last column to 0s and 1s according to the value. Drop poorly inputed data. At the end of the process the data should look like this:"
   ]
  },
  {
   "cell_type": "code",
   "execution_count": 4,
   "metadata": {
    "ExecuteTime": {
     "end_time": "2018-07-30T14:52:50.428800Z",
     "start_time": "2018-07-30T10:52:50.393621-04:00"
    },
    "run_control": {
     "frozen": false,
     "read_only": false
    }
   },
   "outputs": [
    {
     "data": {
      "text/html": [
       "<div>\n",
       "<style scoped>\n",
       "    .dataframe tbody tr th:only-of-type {\n",
       "        vertical-align: middle;\n",
       "    }\n",
       "\n",
       "    .dataframe tbody tr th {\n",
       "        vertical-align: top;\n",
       "    }\n",
       "\n",
       "    .dataframe thead th {\n",
       "        text-align: right;\n",
       "    }\n",
       "</style>\n",
       "<table border=\"1\" class=\"dataframe\">\n",
       "  <thead>\n",
       "    <tr style=\"text-align: right;\">\n",
       "      <th></th>\n",
       "      <th>x1</th>\n",
       "      <th>x2</th>\n",
       "      <th>color</th>\n",
       "      <th>y</th>\n",
       "    </tr>\n",
       "  </thead>\n",
       "  <tbody>\n",
       "    <tr>\n",
       "      <th>0</th>\n",
       "      <td>1.103418</td>\n",
       "      <td>5.160703</td>\n",
       "      <td>green</td>\n",
       "      <td>0.0</td>\n",
       "    </tr>\n",
       "    <tr>\n",
       "      <th>1</th>\n",
       "      <td>0.754804</td>\n",
       "      <td>5.846008</td>\n",
       "      <td>green</td>\n",
       "      <td>0.0</td>\n",
       "    </tr>\n",
       "    <tr>\n",
       "      <th>2</th>\n",
       "      <td>-1.651331</td>\n",
       "      <td>7.416112</td>\n",
       "      <td>green</td>\n",
       "      <td>0.0</td>\n",
       "    </tr>\n",
       "    <tr>\n",
       "      <th>3</th>\n",
       "      <td>-2.502233</td>\n",
       "      <td>7.799007</td>\n",
       "      <td>green</td>\n",
       "      <td>0.0</td>\n",
       "    </tr>\n",
       "    <tr>\n",
       "      <th>4</th>\n",
       "      <td>-0.183246</td>\n",
       "      <td>9.076321</td>\n",
       "      <td>green</td>\n",
       "      <td>0.0</td>\n",
       "    </tr>\n",
       "  </tbody>\n",
       "</table>\n",
       "</div>"
      ],
      "text/plain": [
       "         x1        x2  color    y\n",
       "0  1.103418  5.160703  green  0.0\n",
       "1  0.754804  5.846008  green  0.0\n",
       "2 -1.651331  7.416112  green  0.0\n",
       "3 -2.502233  7.799007  green  0.0\n",
       "4 -0.183246  9.076321  green  0.0"
      ]
     },
     "execution_count": 4,
     "metadata": {},
     "output_type": "execute_result"
    }
   ],
   "source": [
    "datain.head()"
   ]
  },
  {
   "cell_type": "code",
   "execution_count": 5,
   "metadata": {
    "ExecuteTime": {
     "end_time": "2018-07-30T14:52:52.371639Z",
     "start_time": "2018-07-30T10:52:52.339764-04:00"
    },
    "run_control": {
     "frozen": false,
     "read_only": false
    }
   },
   "outputs": [
    {
     "data": {
      "text/html": [
       "<div>\n",
       "<style scoped>\n",
       "    .dataframe tbody tr th:only-of-type {\n",
       "        vertical-align: middle;\n",
       "    }\n",
       "\n",
       "    .dataframe tbody tr th {\n",
       "        vertical-align: top;\n",
       "    }\n",
       "\n",
       "    .dataframe thead th {\n",
       "        text-align: right;\n",
       "    }\n",
       "</style>\n",
       "<table border=\"1\" class=\"dataframe\">\n",
       "  <thead>\n",
       "    <tr style=\"text-align: right;\">\n",
       "      <th></th>\n",
       "      <th>x1</th>\n",
       "      <th>x2</th>\n",
       "      <th>y</th>\n",
       "    </tr>\n",
       "  </thead>\n",
       "  <tbody>\n",
       "    <tr>\n",
       "      <th>count</th>\n",
       "      <td>196.000000</td>\n",
       "      <td>196.000000</td>\n",
       "      <td>196.000000</td>\n",
       "    </tr>\n",
       "    <tr>\n",
       "      <th>mean</th>\n",
       "      <td>3.221567</td>\n",
       "      <td>4.282077</td>\n",
       "      <td>0.448980</td>\n",
       "    </tr>\n",
       "    <tr>\n",
       "      <th>std</th>\n",
       "      <td>3.519541</td>\n",
       "      <td>3.409446</td>\n",
       "      <td>0.498664</td>\n",
       "    </tr>\n",
       "    <tr>\n",
       "      <th>min</th>\n",
       "      <td>-4.841950</td>\n",
       "      <td>-3.133742</td>\n",
       "      <td>0.000000</td>\n",
       "    </tr>\n",
       "    <tr>\n",
       "      <th>25%</th>\n",
       "      <td>0.617336</td>\n",
       "      <td>1.696219</td>\n",
       "      <td>0.000000</td>\n",
       "    </tr>\n",
       "    <tr>\n",
       "      <th>50%</th>\n",
       "      <td>3.071503</td>\n",
       "      <td>4.270623</td>\n",
       "      <td>0.000000</td>\n",
       "    </tr>\n",
       "    <tr>\n",
       "      <th>75%</th>\n",
       "      <td>5.738187</td>\n",
       "      <td>7.095339</td>\n",
       "      <td>1.000000</td>\n",
       "    </tr>\n",
       "    <tr>\n",
       "      <th>max</th>\n",
       "      <td>13.162562</td>\n",
       "      <td>12.174896</td>\n",
       "      <td>1.000000</td>\n",
       "    </tr>\n",
       "  </tbody>\n",
       "</table>\n",
       "</div>"
      ],
      "text/plain": [
       "               x1          x2           y\n",
       "count  196.000000  196.000000  196.000000\n",
       "mean     3.221567    4.282077    0.448980\n",
       "std      3.519541    3.409446    0.498664\n",
       "min     -4.841950   -3.133742    0.000000\n",
       "25%      0.617336    1.696219    0.000000\n",
       "50%      3.071503    4.270623    0.000000\n",
       "75%      5.738187    7.095339    1.000000\n",
       "max     13.162562   12.174896    1.000000"
      ]
     },
     "execution_count": 5,
     "metadata": {},
     "output_type": "execute_result"
    }
   ],
   "source": [
    "datain.describe()"
   ]
  },
  {
   "cell_type": "markdown",
   "metadata": {},
   "source": [
    "** Displaying data **"
   ]
  },
  {
   "cell_type": "markdown",
   "metadata": {
    "run_control": {
     "frozen": false,
     "read_only": false
    }
   },
   "source": [
    "Plot the data on the x1-x2 plane using the categorical variable as color; make sure that the axes labels are readable and that the axes are on the same scale. \n",
    "use the third column as a color category."
   ]
  },
  {
   "cell_type": "code",
   "execution_count": 6,
   "metadata": {
    "ExecuteTime": {
     "end_time": "2018-07-30T15:10:18.948826Z",
     "start_time": "2018-07-30T11:10:18.559566-04:00"
    },
    "run_control": {
     "frozen": false,
     "read_only": false
    }
   },
   "outputs": [
    {
     "data": {
      "image/png": "[encoded data removed]",
      "text/plain": [
       "<Figure size 288x216 with 1 Axes>"
      ]
     },
     "metadata": {},
     "output_type": "display_data"
    }
   ],
   "source": [
    "plt.subplots(figsize=(4, 3))\n",
    "plt.scatter(datain.x1, datain.x2, c = datain.color)\n",
    "plt.xlabel('x1')\n",
    "plt.ylabel('x2')\n",
    "plt.show()"
   ]
  },
  {
   "cell_type": "markdown",
   "metadata": {},
   "source": [
    "** Modeling **"
   ]
  },
  {
   "cell_type": "markdown",
   "metadata": {
    "ExecuteTime": {
     "end_time": "2018-07-30T14:58:00.772704Z",
     "start_time": "2018-07-30T10:58:00.498004-04:00"
    },
    "run_control": {
     "frozen": false,
     "read_only": false
    }
   },
   "source": [
    "Now that your data is read in properly,\n",
    "Initiate a logistic regression object with the x1, x2, and y variables for modeling, setting C = 10,000 to disable regularization"
   ]
  },
  {
   "cell_type": "code",
   "execution_count": 7,
   "metadata": {
    "run_control": {
     "frozen": false,
     "read_only": false
    }
   },
   "outputs": [],
   "source": [
    "# Initialize classifier \n",
    "logreg = LogisticRegression(C = 10000)\n",
    "X = datain[['x1','x2']]\n",
    "\n",
    "# Split the data set\n",
    "y = datain['y']\n",
    "total = X.shape[0]\n",
    "portionTraining = 0.7 # The portion of training set to the total data set\n",
    "train_total = int(total * portionTraining)\n",
    "X_train = X[0:train_total]\n",
    "X_test = X[train_total:total]\n",
    "y_train = y[0:train_total]\n",
    "y_test = y[train_total:total]"
   ]
  },
  {
   "cell_type": "markdown",
   "metadata": {
    "run_control": {
     "frozen": false,
     "read_only": false
    }
   },
   "source": [
    "Run logistic regression on the training set"
   ]
  },
  {
   "cell_type": "code",
   "execution_count": 8,
   "metadata": {
    "run_control": {
     "frozen": false,
     "read_only": false
    }
   },
   "outputs": [],
   "source": [
    "classifier = logreg.fit(X_train,y_train.ravel())"
   ]
  },
  {
   "cell_type": "markdown",
   "metadata": {
    "run_control": {
     "frozen": false,
     "read_only": false
    }
   },
   "source": [
    "Print out the fitted parameters (including the intercept)"
   ]
  },
  {
   "cell_type": "code",
   "execution_count": 9,
   "metadata": {
    "run_control": {
     "frozen": false,
     "read_only": false
    }
   },
   "outputs": [
    {
     "name": "stdout",
     "output_type": "stream",
     "text": [
      "The trained parameters are: \n",
      "coefficients: [[ 0.69861594 -0.77858791]] intercept: 0.1632967832016515\n"
     ]
    }
   ],
   "source": [
    "#parameters = classifier.get_params()\n",
    "print(\"The trained parameters are: \")\n",
    "print(\"coefficients: \" + str(classifier.coef_) + \" intercept: \" + str(float(classifier.intercept_)))"
   ]
  },
  {
   "cell_type": "markdown",
   "metadata": {
    "run_control": {
     "frozen": false,
     "read_only": false
    }
   },
   "source": [
    "Use these parameters to predict on the test set"
   ]
  },
  {
   "cell_type": "code",
   "execution_count": 10,
   "metadata": {
    "run_control": {
     "frozen": false,
     "read_only": false
    }
   },
   "outputs": [],
   "source": [
    "pred = classifier.predict(X_test)"
   ]
  },
  {
   "cell_type": "markdown",
   "metadata": {},
   "source": [
    "** Displaying and interpreting the result **"
   ]
  },
  {
   "cell_type": "markdown",
   "metadata": {
    "run_control": {
     "frozen": false,
     "read_only": false
    }
   },
   "source": [
    "Draw two plots, first one showing your prediction, second one for the actual labels, with decision boundary in both"
   ]
  },
  {
   "cell_type": "code",
   "execution_count": 11,
   "metadata": {
    "run_control": {
     "frozen": false,
     "read_only": false
    }
   },
   "outputs": [
    {
     "data": {
      "image/png": "[encoded data removed]",
      "text/plain": [
       "<Figure size 576x432 with 1 Axes>"
      ]
     },
     "metadata": {},
     "output_type": "display_data"
    },
    {
     "data": {
      "image/png": "[encoded data removed]",
      "text/plain": [
       "<Figure size 576x432 with 1 Axes>"
      ]
     },
     "metadata": {},
     "output_type": "display_data"
    }
   ],
   "source": [
    "def redeemColor(input):\n",
    "    output = []\n",
    "    for i in range(input.shape[0]):\n",
    "        if input[i] == 1:\n",
    "            output.append(\"yellow\")\n",
    "        else:\n",
    "            output.append(\"green\")\n",
    "    return output\n",
    "\n",
    "# Plot for prediction\n",
    "X_array = np.asarray(X_test).reshape((X_test.shape[0], X_test.shape[1]))\n",
    "X_array_color = datain['color']\n",
    "color_array = X_array_color[train_total:total]\n",
    "predict_array = redeemColor(pred)\n",
    "x1_min, x1_max = X_array[:, 0].min() - 1, X_array[:, 0].max() + 1\n",
    "x2_min, x2_max = X_array[:, 1].min() - 1, X_array[:, 1].max() + 1\n",
    "xx, yy = np.meshgrid(np.linspace(x1_min, x1_max, 25),\n",
    "                     np.linspace(x2_min, x2_max, 25))\n",
    "grid = np.c_[xx.ravel(), yy.ravel()]\n",
    "probs = classifier.predict_proba(grid)[:, 0].reshape(xx.shape)\n",
    "_, ax = plt.subplots(figsize=(8, 6))\n",
    "ax.contour(xx, yy, probs, levels=[.5], cmap=\"Greys\", vmin=0, vmax=.6)\n",
    "ax.scatter(X_array[:,0], X_array[:,1], c = predict_array, vmin=-.2, vmax=1.2,\n",
    "           edgecolor=\"grey\", linewidth=1)\n",
    "ax.set(aspect=\"equal\",\n",
    "       xlim=(x1_min, x1_max), ylim=(x2_min, x2_max),\n",
    "       xlabel=\"$X_1$\", ylabel=\"$X_2$\")\n",
    "plt.title(\"Prediction\")\n",
    "plt.show()\n",
    "\n",
    "# Plot for actual data\n",
    "_, ax1 = plt.subplots(figsize=(8, 6))\n",
    "ax1.contour(xx, yy, probs, levels=[.5], cmap=\"Greys\", vmin=0, vmax=.6)\n",
    "ax1.scatter(X_array[:,0], X_array[:,1], c = color_array, vmin=-.2, vmax=1.2,\n",
    "           edgecolor=\"grey\", linewidth=1)\n",
    "ax1.set(aspect=\"equal\",\n",
    "       xlim=(x1_min, x1_max), ylim=(x2_min, x2_max),\n",
    "       xlabel=\"$X_1$\", ylabel=\"$X_2$\")\n",
    "plt.title(\"Actual Data\")\n",
    "plt.show()"
   ]
  },
  {
   "cell_type": "markdown",
   "metadata": {
    "run_control": {
     "frozen": false,
     "read_only": false
    }
   },
   "source": [
    "Calculate and display visually the confusion matrix to evaluate the model's performance, print out accuracy, recall and precision. Comment on your result"
   ]
  },
  {
   "cell_type": "code",
   "execution_count": 16,
   "metadata": {
    "run_control": {
     "frozen": false,
     "read_only": false
    }
   },
   "outputs": [
    {
     "name": "stdout",
     "output_type": "stream",
     "text": [
      "The confusion matrix is:\n",
      "[[28  1]\n",
      " [ 4 26]]\n",
      "The precision is: 0.962962962963 the recall is 0.866666666667\n",
      "\n",
      "The accuracy of the classifier is: 0.915254237288\n"
     ]
    }
   ],
   "source": [
    "# Print accuracy and confusion matrix\n",
    "confusion = confusion_matrix(y_test, pred)\n",
    "accuracy = classifier.score(X_test, y_test)\n",
    "precision = precision_score(y_test, pred)\n",
    "recall = recall_score(y_test, pred)\n",
    "print(\"The confusion matrix is:\")\n",
    "print(confusion)\n",
    "print(\"The precision is: \" + str(precision) + \" the recall is \" + str(recall))\n",
    "print(\"\\nThe accuracy of the classifier is: \" + str(accuracy))"
   ]
  },
  {
   "cell_type": "markdown",
   "metadata": {},
   "source": [
    "Run a linear regression on the data and comment on which model is \"best\" and why."
   ]
  },
  {
   "cell_type": "code",
   "execution_count": 33,
   "metadata": {},
   "outputs": [
    {
     "name": "stdout",
     "output_type": "stream",
     "text": [
      "The accuracy of linear regression is: 0.692856938617\n"
     ]
    }
   ],
   "source": [
    "# Linear Regression Model\n",
    "linearClassifier = LinearRegression().fit(X_train, y_train.ravel())\n",
    "accuracy_linear = linearClassifier.score(X_test, y_test)\n",
    "print(\"The accuracy of linear regression is: \" + str(accuracy_linear))"
   ]
  },
  {
   "cell_type": "code",
   "execution_count": null,
   "metadata": {},
   "outputs": [],
   "source": [
    "# Comments of the performance on these two models \n",
    "# I do not know why we are required to use linear regression since this problem is a typical binary classification\n",
    "# problem. But judge by the accuracy, the logistic regression has better performance. Maybe the other choice is to use \n",
    "# the support vector machine if more data can be provided."
   ]
  }
 ],
 "metadata": {
  "kernelspec": {
   "display_name": "Python 3",
   "language": "python",
   "name": "python3"
  },
  "language_info": {
   "codemirror_mode": {
    "name": "ipython",
    "version": 3
   },
   "file_extension": ".py",
   "mimetype": "text/x-python",
   "name": "python",
   "nbconvert_exporter": "python",
   "pygments_lexer": "ipython3",
   "version": "3.5.2"
  },
  "toc": {
   "colors": {
    "hover_highlight": "#DAA520",
    "running_highlight": "#FF0000",
    "selected_highlight": "#FFD700"
   },
   "moveMenuLeft": true,
   "nav_menu": {
    "height": "11px",
    "width": "252px"
   },
   "navigate_menu": true,
   "number_sections": true,
   "sideBar": true,
   "threshold": 4,
   "toc_cell": false,
   "toc_section_display": "block",
   "toc_window_display": false
  }
 },
 "nbformat": 4,
 "nbformat_minor": 2
}
